{
 "cells": [
  {
   "cell_type": "code",
   "execution_count": 1,
   "id": "2260fe5e",
   "metadata": {},
   "outputs": [],
   "source": [
    "import xarray as xr\n",
    "# import matplotlib.pyplot as plt\n",
    "import numpy as np\n",
    "from scipy import stats\n",
    "# import dask.array as da"
   ]
  },
  {
   "cell_type": "code",
   "execution_count": 2,
   "id": "6a3932b8",
   "metadata": {},
   "outputs": [],
   "source": [
    "def rmse(mod,obs):\n",
    "    mod = mod.assign_coords(time=obs.time)\n",
    "    rmse = ((((mod - obs)**2).mean(dim = 'time')**0.5)).rename('rmse')\n",
    "    return rmse\n"
   ]
  },
  {
   "cell_type": "code",
   "execution_count": 3,
   "id": "7e7a0468",
   "metadata": {},
   "outputs": [],
   "source": [
    "def kge(mod,obs,obsclim,obsstd):\n",
    "    #taslut.assign_coords(time=obs.time)\n",
    "    mod = mod.assign_coords(time=obs.time)\n",
    "   \n",
    "    modclim = mod.mean(dim = 'time')\n",
    "    modstd = mod.std(dim = 'time')\n",
    "    \n",
    "\n",
    "    B = modclim/obsclim\n",
    "    G = (modstd/modclim)/(obsstd/ obsclim)\n",
    "    P = xr.corr(mod , obs, dim= 'time')\n",
    "    kge = (1-((P-1)**2 + (B - 1)**2 + (G-1)**2)**(0.5)).rename('kge')\n",
    "    return kge"
   ]
  },
  {
   "cell_type": "code",
   "execution_count": 4,
   "id": "63eaade6",
   "metadata": {},
   "outputs": [],
   "source": [
    "realisation = 'r1i1p1f1'\n",
    "model = 'cesm2'\n",
    "\n",
    "tas = xr.open_dataset('CMIP/tas_'+ model + '_' + realisation + '_obs.nc')\n",
    "mnlut=xr.open_dataset('CMIP/mnLut_'+ model + '_' + realisation +'_obs.nc')\n",
    "mpd=xr.open_dataset('review_files/mapped_tas_'+ model + '_new.nc')\n",
    "\n",
    "mnlut_cor=xr.open_dataset('review_files/mnlut_tascor_'+ model +'_2new.nc')\n",
    "mpd_cor=xr.open_dataset('review_files/mapped_tascor_'+ model +'_2new.nc')\n",
    "\n",
    "obs = xr.open_dataset('CMIP/Tair_merge.nc')\n",
    "\n",
    "obscor = obs.sel(lat = slice(83.4,-55.15),lon = slice(-180.0,178.75))\n",
    "\n"
   ]
  },
  {
   "cell_type": "code",
   "execution_count": 6,
   "id": "ba418a2a",
   "metadata": {},
   "outputs": [
    {
     "name": "stderr",
     "output_type": "stream",
     "text": [
      "/scratch/brussel/vo/000/bvo00012/vsc10314/miniconda/envs/env3/lib/python3.10/site-packages/numpy/lib/nanfunctions.py:1879: RuntimeWarning: Degrees of freedom <= 0 for slice.\n",
      "  var = nanvar(a, axis=axis, dtype=dtype, out=out, ddof=ddof,\n"
     ]
    }
   ],
   "source": [
    "obs_std = obs.Tair.std(dim = 'time')\n",
    "obs_clim = obs.Tair.mean(dim = 'time')\n",
    "obscor_std = obscor.Tair.std(dim = 'time')\n",
    "obscor_clim = obscor.Tair.mean(dim = 'time')"
   ]
  },
  {
   "cell_type": "code",
   "execution_count": 7,
   "id": "eeace8bc",
   "metadata": {},
   "outputs": [
    {
     "name": "stderr",
     "output_type": "stream",
     "text": [
      "/scratch/brussel/vo/000/bvo00012/vsc10314/miniconda/envs/env3/lib/python3.10/site-packages/numpy/lib/nanfunctions.py:1879: RuntimeWarning: Degrees of freedom <= 0 for slice.\n",
      "  var = nanvar(a, axis=axis, dtype=dtype, out=out, ddof=ddof,\n",
      "/scratch/brussel/vo/000/bvo00012/vsc10314/miniconda/envs/env3/lib/python3.10/site-packages/numpy/lib/nanfunctions.py:1879: RuntimeWarning: Degrees of freedom <= 0 for slice.\n",
      "  var = nanvar(a, axis=axis, dtype=dtype, out=out, ddof=ddof,\n",
      "/scratch/brussel/vo/000/bvo00012/vsc10314/miniconda/envs/env3/lib/python3.10/site-packages/numpy/lib/nanfunctions.py:1879: RuntimeWarning: Degrees of freedom <= 0 for slice.\n",
      "  var = nanvar(a, axis=axis, dtype=dtype, out=out, ddof=ddof,\n"
     ]
    }
   ],
   "source": [
    "mnlut_kge = kge(mnlut.tasLut,obs.Tair,obs_clim,obs_std)\n",
    "mnlut_rms = rmse(mnlut.tasLut,obs.Tair)\n",
    "mnlut_cor_kge = kge(mnlut_cor.tasLut,obscor.Tair,obscor_clim,obscor_std)\n",
    "mnlut_cor_rms = rmse(mnlut_cor.tasLut,obscor.Tair)\n"
   ]
  },
  {
   "cell_type": "code",
   "execution_count": 7,
   "id": "df9548a4",
   "metadata": {},
   "outputs": [
    {
     "name": "stderr",
     "output_type": "stream",
     "text": [
      "/scratch/brussel/vo/000/bvo00012/vsc10314/miniconda/envs/env3/lib/python3.10/site-packages/numpy/lib/nanfunctions.py:1879: RuntimeWarning: Degrees of freedom <= 0 for slice.\n",
      "  var = nanvar(a, axis=axis, dtype=dtype, out=out, ddof=ddof,\n",
      "/scratch/brussel/vo/000/bvo00012/vsc10314/miniconda/envs/env3/lib/python3.10/site-packages/numpy/lib/nanfunctions.py:1879: RuntimeWarning: Degrees of freedom <= 0 for slice.\n",
      "  var = nanvar(a, axis=axis, dtype=dtype, out=out, ddof=ddof,\n",
      "/scratch/brussel/vo/000/bvo00012/vsc10314/miniconda/envs/env3/lib/python3.10/site-packages/numpy/lib/nanfunctions.py:1879: RuntimeWarning: Degrees of freedom <= 0 for slice.\n",
      "  var = nanvar(a, axis=axis, dtype=dtype, out=out, ddof=ddof,\n",
      "/scratch/brussel/vo/000/bvo00012/vsc10314/miniconda/envs/env3/lib/python3.10/site-packages/numpy/lib/nanfunctions.py:1879: RuntimeWarning: Degrees of freedom <= 0 for slice.\n",
      "  var = nanvar(a, axis=axis, dtype=dtype, out=out, ddof=ddof,\n",
      "/scratch/brussel/vo/000/bvo00012/vsc10314/miniconda/envs/env3/lib/python3.10/site-packages/numpy/lib/nanfunctions.py:1879: RuntimeWarning: Degrees of freedom <= 0 for slice.\n",
      "  var = nanvar(a, axis=axis, dtype=dtype, out=out, ddof=ddof,\n",
      "/scratch/brussel/vo/000/bvo00012/vsc10314/miniconda/envs/env3/lib/python3.10/site-packages/numpy/lib/nanfunctions.py:1879: RuntimeWarning: Degrees of freedom <= 0 for slice.\n",
      "  var = nanvar(a, axis=axis, dtype=dtype, out=out, ddof=ddof,\n"
     ]
    }
   ],
   "source": [
    "mpd_kge = kge(mpd.tas,obs.Tair,obs_clim,obs_std)\n",
    "mpd_rms = rmse(mpd.tas,obs.Tair)\n",
    "mpd_cor_kge = kge(mpd_cor.tas,obscor.Tair,obscor_clim,obscor_std)\n",
    "mpd_cor_rms = rmse(mpd_cor.tas,obscor.Tair)"
   ]
  },
  {
   "cell_type": "code",
   "execution_count": 8,
   "id": "be367c0c",
   "metadata": {},
   "outputs": [],
   "source": [
    "dif_rms = mpd_rms - mnlut_rms\n",
    "dif_kge = mpd_kge - mnlut_kge\n",
    "difcor_rms = mpd_cor_rms - mnlut_cor_rms\n",
    "difcor_kge = mpd_cor_kge - mnlut_cor_kge"
   ]
  },
  {
   "cell_type": "code",
   "execution_count": 9,
   "id": "c755ed6a",
   "metadata": {},
   "outputs": [],
   "source": [
    "dif_rms = dif_rms.to_dataset()\n",
    "dif_kge = dif_kge.to_dataset()\n",
    "difcor_rms = difcor_rms.to_dataset()\n",
    "difcor_kge = difcor_kge.to_dataset()"
   ]
  },
  {
   "cell_type": "code",
   "execution_count": 10,
   "id": "f05b27ce",
   "metadata": {},
   "outputs": [],
   "source": [
    "dif_rms.to_netcdf('review_files/rmse_difmap_'+model+'.nc')\n",
    "dif_kge.to_netcdf('review_files/kge_difmap_'+model+'.nc')\n",
    "difcor_rms.to_netcdf('review_files/rmse_difmap_cor_'+model+'.nc')\n",
    "difcor_kge.to_netcdf('review_files/kge_difmap_cor_'+model+'.nc')"
   ]
  },
  {
   "cell_type": "code",
   "execution_count": 9,
   "id": "f12c7914",
   "metadata": {},
   "outputs": [],
   "source": [
    "mnlut_rms = mnlut_rms.to_dataset()\n",
    "mnlut_kge=mnlut_kge.to_dataset()\n",
    "mnlut_cor_rms = mnlut_cor_rms.to_dataset()\n",
    "mnlut_cor_kge=mnlut_cor_kge.to_dataset()"
   ]
  },
  {
   "cell_type": "code",
   "execution_count": 17,
   "id": "980150d1",
   "metadata": {},
   "outputs": [],
   "source": [
    "mpd_rms = mpd_rms.to_dataset()\n",
    "mpd_kge=mpd_kge.to_dataset()\n",
    "mpd_cor_rms = mpd_cor_rms.to_dataset()\n",
    "mpd_cor_kge=mpd_cor_kge.to_dataset()"
   ]
  },
  {
   "cell_type": "code",
   "execution_count": 11,
   "id": "aa41142d",
   "metadata": {},
   "outputs": [],
   "source": [
    "mnlut_rms.to_netcdf('review_files/mnlut_rms_'+model+'_2new.nc')\n",
    "mnlut_kge.to_netcdf('review_files/mnlut_kge_'+model+'_2new.nc')\n",
    "mnlut_cor_rms.to_netcdf('review_files/mnlut_cor_rms_'+model+'_2new.nc')\n",
    "mnlut_cor_kge.to_netcdf('review_files/mnlut_cor_kge_'+model+'_2new.nc')"
   ]
  },
  {
   "cell_type": "code",
   "execution_count": 19,
   "id": "830a37d4",
   "metadata": {},
   "outputs": [],
   "source": [
    "mpd_rms.to_netcdf('review_files/mpd_rms_'+model+'_2new.nc')\n",
    "mpd_kge.to_netcdf('review_files/mpd_kge_'+model+'_2new.nc')\n",
    "mpd_cor_rms.to_netcdf('review_files/mpd_cor_rms_'+model+'_2new.nc')\n",
    "mpd_cor_kge.to_netcdf('review_files/mpd_cor_kge_'+model+'_2new.nc')"
   ]
  },
  {
   "cell_type": "markdown",
   "id": "0f2fdd9f",
   "metadata": {},
   "source": [
    "### Repeat for UKESM"
   ]
  },
  {
   "cell_type": "code",
   "execution_count": 32,
   "id": "4b4d7750",
   "metadata": {},
   "outputs": [],
   "source": [
    "realisation = 'r1i1p1f2'\n",
    "model = 'ukesm'\n",
    "\n",
    "tas = xr.open_dataset('CMIP/tas_'+ model + '_' + realisation + '_obs.nc')\n",
    "mnlut=xr.open_dataset('CMIP/mnLut_'+ model + '_' + realisation +'_obs.nc')\n",
    "mpd=xr.open_dataset('review_files/mapped_tas_'+ model + '.nc')\n",
    "\n",
    "mnlut_cor=xr.open_dataset('review_files/mnlut_tascor_'+ model +'.nc')\n",
    "mpd_cor=xr.open_dataset('review_files/mapped_tascor_'+ model +'.nc')\n",
    "\n",
    "obs = xr.open_dataset('CMIP/Tair_merge.nc')"
   ]
  },
  {
   "cell_type": "code",
   "execution_count": 21,
   "id": "dc80a653",
   "metadata": {},
   "outputs": [],
   "source": [
    "obs_std = obs.Tair.std(dim = 'time')\n",
    "obs_clim = obs.Tair.mean(dim = 'time')"
   ]
  },
  {
   "cell_type": "code",
   "execution_count": 33,
   "id": "9d0413f1",
   "metadata": {},
   "outputs": [],
   "source": [
    "mnlut = mnlut.assign_coords(time=obs.time)\n",
    "mnlut_cor = mnlut_cor.assign_coords(time=obs.time)\n",
    "\n",
    "mpd = mpd.assign_coords(time=obs.time)\n",
    "mpd_cor = mpd_cor.assign_coords(time=obs.time)\n"
   ]
  },
  {
   "cell_type": "code",
   "execution_count": 36,
   "id": "7d77ffde",
   "metadata": {},
   "outputs": [],
   "source": [
    "mnlut_kge = kge(mnlut.tasLut,mnlut_clim.tasLut,mnlut_std.tasLut,obs.Tair,obs_clim.Tair,obs_std.Tair)\n",
    "mnlut_rms = rmse(mnlut.tasLut,obs.Tair)\n",
    "mnlut_cor_kge = kge(mnlut_cor.tasLut,mnlut_cor_clim.tasLut,mnlut_cor_std.tasLut,obs.Tair,obs_clim,obs_std)\n",
    "mnlut_cor_rms = rmse(mnlut_cor.tasLut,obs.Tair)"
   ]
  },
  {
   "cell_type": "code",
   "execution_count": 28,
   "id": "ebb67e34",
   "metadata": {},
   "outputs": [],
   "source": [
    "mpd_kge = kge(mpd.tas,mpd_clim.tas,mpd_std.tas,obs.Tair,obs_clim,obs_std)\n",
    "mpd_rms = rmse(mpd.tas,obs.Tair)\n",
    "mpd_cor_kge = kge(mpd_cor.tas,mpd_cor_clim.tas,mpd_cor_std.tas,obs.Tair,obs_clim,obs_std)\n",
    "mpd_cor_rms = rmse(mpd_cor.tas,obs.Tair)"
   ]
  },
  {
   "cell_type": "code",
   "execution_count": 37,
   "id": "ce3c5aa8",
   "metadata": {},
   "outputs": [],
   "source": [
    "mnlut_rms = mnlut_rms.to_dataset()\n",
    "mnlut_kge=mnlut_kge.to_dataset()\n",
    "mnlut_cor_rms = mnlut_cor_rms.to_dataset()\n",
    "mnlut_cor_kge=mnlut_cor_kge.to_dataset()"
   ]
  },
  {
   "cell_type": "code",
   "execution_count": 29,
   "id": "2b4e5e30",
   "metadata": {},
   "outputs": [],
   "source": [
    "mpd_rms = mpd_rms.to_dataset()\n",
    "mpd_kge=mpd_kge.to_dataset()\n",
    "mpd_cor_rms = mpd_cor_rms.to_dataset()\n",
    "mpd_cor_kge=mpd_cor_kge.to_dataset()"
   ]
  },
  {
   "cell_type": "code",
   "execution_count": 38,
   "id": "a0a555a3",
   "metadata": {},
   "outputs": [],
   "source": [
    "mnlut_rms.to_netcdf('review_files/mnlut_rms_'+model+'.nc')\n",
    "mnlut_kge.to_netcdf('review_files/mnlut_kge_'+model+'.nc')\n",
    "mnlut_cor_rms.to_netcdf('review_files/mnlut_cor_rms_'+model+'.nc')\n",
    "mnlut_cor_kge.to_netcdf('review_files/mnlut_cor_kge_'+model+'.nc')"
   ]
  },
  {
   "cell_type": "code",
   "execution_count": 31,
   "id": "c1f1567f",
   "metadata": {},
   "outputs": [],
   "source": [
    "mpd_rms.to_netcdf('review_files/mpd_rms_'+model+'.nc')\n",
    "mpd_kge.to_netcdf('review_files/mpd_kge_'+model+'.nc')\n",
    "mpd_cor_rms.to_netcdf('review_files/mpd_cor_rms_'+model+'.nc')\n",
    "mpd_cor_kge.to_netcdf('review_files/mpd_cor_kge_'+model+'.nc')"
   ]
  },
  {
   "cell_type": "markdown",
   "id": "bb0fbe8a",
   "metadata": {},
   "source": [
    "### FOR LST"
   ]
  },
  {
   "cell_type": "code",
   "execution_count": 7,
   "id": "3f97457e",
   "metadata": {},
   "outputs": [],
   "source": [
    "model = 'cesm2'\n",
    "\n",
    "tas = xr.open_dataset('lstmip/tslsi_'+ model + '_obs.nc')\n",
    "\n",
    "mnlut=xr.open_dataset('lstmip/mnLut_'+ model  +'_obs.nc')\n",
    "mpd=xr.open_dataset('review_files/mapped_tslsi_'+ model + '_new.nc')\n",
    "\n",
    "mnlut_cor=xr.open_dataset('review_files/mnlut_tslsicor_'+ model +'_2new.nc')\n",
    "mpd_cor=xr.open_dataset('review_files/mapped_tslsicor_'+ model +'_2new.nc')\n",
    "\n",
    "obs = xr.open_dataset('lstmip/modlst.nc')\n",
    "obs = obs.sel(time = slice(obs.time[23],obs.time[166]))\n",
    "obscor = obs.sel(lat = slice(83.4,-55.15),lon = slice(-180.0,178.75))"
   ]
  },
  {
   "cell_type": "code",
   "execution_count": 8,
   "id": "a55cbc71",
   "metadata": {},
   "outputs": [
    {
     "name": "stderr",
     "output_type": "stream",
     "text": [
      "/scratch/brussel/vo/000/bvo00012/vsc10314/miniconda/envs/env3/lib/python3.10/site-packages/numpy/lib/nanfunctions.py:1879: RuntimeWarning: Degrees of freedom <= 0 for slice.\n",
      "  var = nanvar(a, axis=axis, dtype=dtype, out=out, ddof=ddof,\n",
      "/scratch/brussel/vo/000/bvo00012/vsc10314/miniconda/envs/env3/lib/python3.10/site-packages/numpy/lib/nanfunctions.py:1879: RuntimeWarning: Degrees of freedom <= 0 for slice.\n",
      "  var = nanvar(a, axis=axis, dtype=dtype, out=out, ddof=ddof,\n"
     ]
    }
   ],
   "source": [
    "obs_std = obs.std(dim = 'time')\n",
    "obs_clim = obs.mean(dim = 'time')\n",
    "obscor_std = obscor.std(dim = 'time')\n",
    "obscor_clim = obscor.mean(dim = 'time')"
   ]
  },
  {
   "cell_type": "code",
   "execution_count": 9,
   "id": "fcbf79a7",
   "metadata": {},
   "outputs": [
    {
     "name": "stderr",
     "output_type": "stream",
     "text": [
      "/scratch/brussel/vo/000/bvo00012/vsc10314/miniconda/envs/env3/lib/python3.10/site-packages/numpy/lib/nanfunctions.py:1879: RuntimeWarning: Degrees of freedom <= 0 for slice.\n",
      "  var = nanvar(a, axis=axis, dtype=dtype, out=out, ddof=ddof,\n",
      "/scratch/brussel/vo/000/bvo00012/vsc10314/miniconda/envs/env3/lib/python3.10/site-packages/numpy/lib/nanfunctions.py:1879: RuntimeWarning: Degrees of freedom <= 0 for slice.\n",
      "  var = nanvar(a, axis=axis, dtype=dtype, out=out, ddof=ddof,\n",
      "/scratch/brussel/vo/000/bvo00012/vsc10314/miniconda/envs/env3/lib/python3.10/site-packages/numpy/lib/nanfunctions.py:1879: RuntimeWarning: Degrees of freedom <= 0 for slice.\n",
      "  var = nanvar(a, axis=axis, dtype=dtype, out=out, ddof=ddof,\n"
     ]
    }
   ],
   "source": [
    "mnlut_kge = kge(mnlut.tslsiLut,obs.lst,obs_clim.lst,obs_std.lst)\n",
    "mnlut_rms = rmse(mnlut.tslsiLut,obs.lst)\n",
    "mnlut_cor_kge = kge(mnlut_cor.tslsiLut,obscor.lst,obscor_clim.lst,obscor_std.lst)\n",
    "mnlut_cor_rms = rmse(mnlut_cor.tslsiLut,obscor.lst)"
   ]
  },
  {
   "cell_type": "code",
   "execution_count": 10,
   "id": "a330790b",
   "metadata": {},
   "outputs": [
    {
     "name": "stderr",
     "output_type": "stream",
     "text": [
      "/scratch/brussel/vo/000/bvo00012/vsc10314/miniconda/envs/env3/lib/python3.10/site-packages/numpy/lib/nanfunctions.py:1879: RuntimeWarning: Degrees of freedom <= 0 for slice.\n",
      "  var = nanvar(a, axis=axis, dtype=dtype, out=out, ddof=ddof,\n",
      "/scratch/brussel/vo/000/bvo00012/vsc10314/miniconda/envs/env3/lib/python3.10/site-packages/numpy/lib/nanfunctions.py:1879: RuntimeWarning: Degrees of freedom <= 0 for slice.\n",
      "  var = nanvar(a, axis=axis, dtype=dtype, out=out, ddof=ddof,\n",
      "/scratch/brussel/vo/000/bvo00012/vsc10314/miniconda/envs/env3/lib/python3.10/site-packages/numpy/lib/nanfunctions.py:1879: RuntimeWarning: Degrees of freedom <= 0 for slice.\n",
      "  var = nanvar(a, axis=axis, dtype=dtype, out=out, ddof=ddof,\n",
      "/scratch/brussel/vo/000/bvo00012/vsc10314/miniconda/envs/env3/lib/python3.10/site-packages/numpy/lib/nanfunctions.py:1879: RuntimeWarning: Degrees of freedom <= 0 for slice.\n",
      "  var = nanvar(a, axis=axis, dtype=dtype, out=out, ddof=ddof,\n",
      "/scratch/brussel/vo/000/bvo00012/vsc10314/miniconda/envs/env3/lib/python3.10/site-packages/numpy/lib/nanfunctions.py:1879: RuntimeWarning: Degrees of freedom <= 0 for slice.\n",
      "  var = nanvar(a, axis=axis, dtype=dtype, out=out, ddof=ddof,\n",
      "/scratch/brussel/vo/000/bvo00012/vsc10314/miniconda/envs/env3/lib/python3.10/site-packages/numpy/lib/nanfunctions.py:1879: RuntimeWarning: Degrees of freedom <= 0 for slice.\n",
      "  var = nanvar(a, axis=axis, dtype=dtype, out=out, ddof=ddof,\n"
     ]
    }
   ],
   "source": [
    "mpd_kge = kge(mpd.tas,obs.lst,obs_clim.lst,obs_std.lst)\n",
    "mpd_rms = rmse(mpd.tas,obs.lst)\n",
    "mpd_cor_kge = kge(mpd_cor.tas,obscor.lst,obscor_clim.lst,obscor_std.lst)\n",
    "mpd_cor_rms = rmse(mpd_cor.tas,obscor.lst)"
   ]
  },
  {
   "cell_type": "code",
   "execution_count": 10,
   "id": "6bbb5186",
   "metadata": {},
   "outputs": [],
   "source": [
    "dif_rms = mpd_rms - mnlut_rms\n",
    "dif_kge = mpd_kge - mnlut_kge\n",
    "difcor_rms = mpd_cor_rms - mnlut_cor_rms\n",
    "difcor_kge = mpd_cor_kge - mnlut_cor_kge"
   ]
  },
  {
   "cell_type": "code",
   "execution_count": 11,
   "id": "db52d340",
   "metadata": {},
   "outputs": [],
   "source": [
    "dif_rms = dif_rms.to_dataset()\n",
    "dif_kge = dif_kge.to_dataset()\n",
    "difcor_rms = difcor_rms.to_dataset()\n",
    "difcor_kge = difcor_kge.to_dataset()"
   ]
  },
  {
   "cell_type": "code",
   "execution_count": 13,
   "id": "ebb1dcb7",
   "metadata": {},
   "outputs": [],
   "source": [
    "dif_rms.to_netcdf('review_files/rmse_lst_dif_'+model+'.nc')\n",
    "dif_kge.to_netcdf('review_files/kge_lst_dif_'+model+'.nc')\n",
    "difcor_rms.to_netcdf('review_files/rmse_lst_difcor_'+model+'.nc')\n",
    "difcor_kge.to_netcdf('review_files/kge_lst_difcor_'+model+'.nc')"
   ]
  },
  {
   "cell_type": "code",
   "execution_count": 16,
   "id": "6f028ae1",
   "metadata": {},
   "outputs": [],
   "source": [
    "mnlut_rms = mnlut_rms.to_dataset()\n",
    "mnlut_kge=mnlut_kge.to_dataset()\n",
    "mnlut_cor_rms = mnlut_cor_rms.to_dataset()\n",
    "mnlut_cor_kge=mnlut_cor_kge.to_dataset()"
   ]
  },
  {
   "cell_type": "code",
   "execution_count": 17,
   "id": "f5e971f6",
   "metadata": {},
   "outputs": [],
   "source": [
    "mpd_rms = mpd_rms.to_dataset()\n",
    "mpd_kge=mpd_kge.to_dataset()\n",
    "mpd_cor_rms = mpd_cor_rms.to_dataset()\n",
    "mpd_cor_kge=mpd_cor_kge.to_dataset()"
   ]
  },
  {
   "cell_type": "code",
   "execution_count": 21,
   "id": "da6a5805",
   "metadata": {},
   "outputs": [],
   "source": [
    "mnlut_rms.to_netcdf('review_files/mnlut_lst_rms_'+model+'_2new.nc')\n",
    "mnlut_kge.to_netcdf('review_files/mnlut_lst_kge_'+model+'_2new.nc')\n",
    "mnlut_cor_rms.to_netcdf('review_files/mnlut_lst_cor_rms_'+model+'_2new.nc')\n",
    "mnlut_cor_kge.to_netcdf('review_files/mnlut_lst_cor_kge_'+model+'_2new.nc')"
   ]
  },
  {
   "cell_type": "code",
   "execution_count": 19,
   "id": "df9da00c",
   "metadata": {},
   "outputs": [],
   "source": [
    "mpd_rms.to_netcdf('review_files/mpd_lst_rms_'+model+'_2new.nc')\n",
    "mpd_kge.to_netcdf('review_files/mpd_lst_kge_'+model+'_2new.nc')\n",
    "mpd_cor_rms.to_netcdf('review_files/mpd_lst_cor_rms_'+model+'_2new.nc')\n",
    "mpd_cor_kge.to_netcdf('review_files/mpd_lst_cor_kge_'+model+'_2new.nc')"
   ]
  },
  {
   "cell_type": "code",
   "execution_count": null,
   "id": "8a65e745",
   "metadata": {},
   "outputs": [],
   "source": []
  }
 ],
 "metadata": {
  "kernelspec": {
   "display_name": "Python 3 (ipykernel)",
   "language": "python",
   "name": "python3"
  },
  "language_info": {
   "codemirror_mode": {
    "name": "ipython",
    "version": 3
   },
   "file_extension": ".py",
   "mimetype": "text/x-python",
   "name": "python",
   "nbconvert_exporter": "python",
   "pygments_lexer": "ipython3",
   "version": "3.10.4"
  }
 },
 "nbformat": 4,
 "nbformat_minor": 5
}
