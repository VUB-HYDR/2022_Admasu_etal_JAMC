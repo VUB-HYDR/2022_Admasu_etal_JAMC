{
 "cells": [
  {
   "cell_type": "code",
   "execution_count": 2,
   "id": "51cac084",
   "metadata": {},
   "outputs": [],
   "source": [
    "import xarray as xr\n",
    "import matplotlib.pyplot as plt\n",
    "import numpy as np\n",
    "\n"
   ]
  },
  {
   "cell_type": "code",
   "execution_count": 5,
   "id": "fe59dd29",
   "metadata": {},
   "outputs": [],
   "source": [
    "#read in files\n",
    "realisation1 = 'r1i1p1f1'\n",
    "model1 = 'cesm2'\n",
    "realisation2 = 'r1i1p1f2'\n",
    "model2 = 'ukesm'\n",
    "lut1 = xr.open_dataset('CMIP/tasLut_'+ model1 + '_' + realisation1 + '_obs.nc')\n",
    "lut2 = xr.open_dataset('CMIP/tasLut_'+ model2 + '_' + realisation2 + '_obs.nc')\n",
    "\n",
    "lst1 = xr.open_dataset('lstmip/tslsilut_'+ model1 + '_obs.nc')\n",
    "lst1 = lst1.sel(time = slice(lst1.time[23],lst1.time[166]))\n",
    "\n",
    "luh = xr.open_dataset('LAF/LAF_obs_new.nc')\n",
    "luh_dom = xr.open_dataset('LAF/LAF_remap_new.nc')\n"
   ]
  },
  {
   "cell_type": "code",
   "execution_count": 4,
   "id": "8fa87477",
   "metadata": {},
   "outputs": [],
   "source": [
    "#make yearly luh data monthly\n",
    "orig_time = luh.time.values\n",
    "add_extra = np.append(orig_time,np.datetime64('2015-01-01T00:00:00.000000000'))\n",
    "full_time = xr.Dataset({\"foo\": (\"time\", np.arange(13)), \"time\": add_extra})\n",
    "\n",
    "luh2 = luh.reindex(time=full_time.time, fill_value=-3000.0).sortby(\"time\")\n",
    "\n",
    "luhmon = luh2.resample(time=\"1M\").pad()\n",
    "luh_new = luhmon.sel(time = slice(luhmon.time[0],luhmon.time[-2]))\n",
    "\n",
    "luh2_dom = luh_dom.reindex(time=full_time.time, fill_value=-3000.0).sortby(\"time\")\n",
    "luhmon_dom = luh2_dom.resample(time=\"1M\").pad()\n",
    "luh_newdom = luhmon_dom.sel(time = slice(luhmon_dom.time[0],luhmon_dom.time[-2]))"
   ]
  },
  {
   "cell_type": "code",
   "execution_count": 5,
   "id": "2bd9fc69",
   "metadata": {},
   "outputs": [],
   "source": [
    "#apply mapping to mod1\n",
    "luh_new=luh_new.assign_coords(time=lut1.time)\n",
    "luh_new=luh_new.assign_coords(lat=lut1.lat)\n",
    "luh_new=luh_new.assign_coords(lon=lut1.lon)\n",
    "mpd1 = lut1.copy(deep = True)\n",
    "mpd1['prim'] = lut1.tasLut.isel(landuse=0)*luh_new.prim.values\n",
    "mpd1['crop'] = lut1.tasLut.isel(landuse=2)*luh_new.crop.values\n",
    "mpd1['urban'] = lut1.tasLut.isel(landuse=3)*luh_new.urban.values\n",
    "\n"
   ]
  },
  {
   "cell_type": "code",
   "execution_count": 6,
   "id": "6ceb47c2",
   "metadata": {},
   "outputs": [],
   "source": [
    "mpd1['urban'] = xr.where((~np.isnan(mpd1.prim)) & (np.isnan(mpd1.urban)),0,mpd1.urban)\n",
    "mpd1['crop'] = xr.where((~np.isnan(mpd1.prim)) & (np.isnan(mpd1.crop)),0,mpd1.crop)\n",
    "mpd1['tas'] = mpd1.prim+mpd1.crop+mpd1.urban"
   ]
  },
  {
   "cell_type": "code",
   "execution_count": 7,
   "id": "882a78b9",
   "metadata": {},
   "outputs": [],
   "source": [
    "mpd1 = mpd1.drop(['prim','crop','urban'])\n",
    "mpd1.to_netcdf('review_files/mapped_tas_' + model1 + '_new.nc')"
   ]
  },
  {
   "cell_type": "code",
   "execution_count": 8,
   "id": "0adf9022",
   "metadata": {},
   "outputs": [],
   "source": [
    "#apply mapping to mod2\n",
    "lut2=lut2.assign_coords(time=luh_new.time)\n",
    "mpd2 = luh_new.copy(deep = True)\n",
    "mpd2['prim'] = lut2.tasLut.isel(landuse=0)*luh_new.prim\n",
    "mpd2['crop'] = lut2.tasLut.isel(landuse=2)*luh_new.crop\n",
    "mpd2['urban'] = lut2.tasLut.isel(landuse=3)*luh_new.urban\n",
    "mpd2['tas'] = mpd2.prim+mpd2.crop+mpd2.urban"
   ]
  },
  {
   "cell_type": "code",
   "execution_count": 9,
   "id": "91a47ea3",
   "metadata": {},
   "outputs": [],
   "source": [
    "mpd2['urban'] = xr.where((~np.isnan(mpd2.prim)) & (np.isnan(mpd2.urban)),0,mpd2.urban)\n",
    "mpd2['crop'] = xr.where((~np.isnan(mpd2.prim)) & (np.isnan(mpd2.crop)),0,mpd2.crop)\n",
    "mpd2['tas'] = mpd2.prim+mpd2.crop+mpd2.urban"
   ]
  },
  {
   "cell_type": "code",
   "execution_count": 11,
   "id": "707ee460",
   "metadata": {},
   "outputs": [],
   "source": [
    "mpd2 = mpd2.drop(['prim','crop','urban'])\n",
    "mpd2.to_netcdf('review_files/mapped_tas_' + model2 + '_new.nc')"
   ]
  },
  {
   "cell_type": "code",
   "execution_count": 3,
   "id": "c3c22b40",
   "metadata": {},
   "outputs": [],
   "source": [
    "#apply mapping to lst\n",
    "luh3 = xr.open_dataset('LAF/laf_lst.nc')\n",
    "luh3 = luh3.sel(time = slice(luh3.time[2],luh3.time[13]))\n",
    "orig_time = luh3.time.values\n",
    "add_extra = np.append(orig_time,np.datetime64('2015-01-01T00:00:00.000000000'))\n",
    "full_time = xr.Dataset({\"foo\": (\"time\", np.arange(13)), \"time\": add_extra})\n",
    "\n",
    "luh4 = luh3.reindex(time=full_time.time, fill_value=-3000.0).sortby(\"time\")\n",
    "\n",
    "luhmon1 = luh4.resample(time=\"1M\").pad()\n",
    "luh_new1 = luhmon1.sel(time = slice(luhmon1.time[0],luhmon1.time[-2]))\n",
    "\n",
    "\n",
    "a = xr.where((luh_new1.prim >luh_new1.crop)& (luh_new1.prim >luh_new1.urban),1,0)\n",
    "b = xr.where((luh_new1.crop >luh_new1.prim)& (luh_new1.crop >luh_new1.urban),2,0)\n",
    "c= xr.where((luh_new1.urban >luh_new1.crop)& (luh_new1.urban > luh_new1.prim ),3,0)\n",
    "\n",
    "luhdom = a+b+c\n",
    "luhdom = luhdom.where(luhdom>0)"
   ]
  },
  {
   "cell_type": "code",
   "execution_count": 6,
   "id": "dad79d5f",
   "metadata": {},
   "outputs": [],
   "source": [
    "#apply mapping to lst\n",
    "luh_new1=luh_new1.assign_coords(time=lst1.time)\n",
    "luh_new1=luh_new1.assign_coords(lat=lst1.lat)\n",
    "luh_new1=luh_new1.assign_coords(lon=lst1.lon)\n",
    "mpd_lst = luh_new1.copy(deep = True)\n",
    "mpd_lst['prim'] = lst1.tslsiLut.isel(landuse=0)*luh_new1.prim\n",
    "mpd_lst['crop'] = lst1.tslsiLut.isel(landuse=2)*luh_new1.crop\n",
    "mpd_lst['urban'] = lst1.tslsiLut.isel(landuse=3)*luh_new1.urban\n"
   ]
  },
  {
   "cell_type": "code",
   "execution_count": 7,
   "id": "0bb45ce2",
   "metadata": {},
   "outputs": [],
   "source": [
    "mpd_lst['urban'] = xr.where((~np.isnan(mpd_lst.prim)) & (np.isnan(mpd_lst.urban)),0,mpd_lst.urban)\n",
    "mpd_lst['crop'] = xr.where((~np.isnan(mpd_lst.prim)) & (np.isnan(mpd_lst.crop)),0,mpd_lst.crop)\n",
    "mpd_lst['tas'] = mpd_lst.prim+mpd_lst.crop+mpd_lst.urban\n"
   ]
  },
  {
   "cell_type": "code",
   "execution_count": 9,
   "id": "2c05244c",
   "metadata": {},
   "outputs": [],
   "source": [
    "#retain the dominant tile\n",
    "\n",
    "mpd_lst = mpd_lst.drop(['prim','crop','urban'])\n",
    "mpd_lst.to_netcdf('review_files/mapped_tslsi_' + model1 + '_new.nc')"
   ]
  },
  {
   "cell_type": "code",
   "execution_count": 2,
   "id": "1e65cd8c",
   "metadata": {},
   "outputs": [],
   "source": [
    "import xarray as xr\n",
    "mpd = xr.open_dataset('review_files/mapped_tas_cesm2.nc')"
   ]
  },
  {
   "cell_type": "code",
   "execution_count": 11,
   "id": "cf230b16",
   "metadata": {},
   "outputs": [],
   "source": [
    "luh_tas = mpd.dom.median(dim = 'time')\n",
    "luh_tas = luh_tas.to_dataset()\n",
    "luh_tas.to_netcdf('review_files/domlaf_air.nc')"
   ]
  },
  {
   "cell_type": "code",
   "execution_count": null,
   "id": "8f8f5aa6",
   "metadata": {},
   "outputs": [],
   "source": []
  }
 ],
 "metadata": {
  "kernelspec": {
   "display_name": "Python 3 (ipykernel)",
   "language": "python",
   "name": "python3"
  },
  "language_info": {
   "codemirror_mode": {
    "name": "ipython",
    "version": 3
   },
   "file_extension": ".py",
   "mimetype": "text/x-python",
   "name": "python",
   "nbconvert_exporter": "python",
   "pygments_lexer": "ipython3",
   "version": "3.10.4"
  }
 },
 "nbformat": 4,
 "nbformat_minor": 5
}
